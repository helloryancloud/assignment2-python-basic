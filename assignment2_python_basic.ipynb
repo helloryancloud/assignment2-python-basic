{
  "cells": [
    {
      "cell_type": "markdown",
      "source": [
        "assignment 2 python basic"
      ],
      "metadata": {
        "id": "7AjpysBSqlM0"
      }
    },
    {
      "cell_type": "code",
      "source": [
        "#question1\n",
        "#write a code to create a string with your name and print it.\n",
        "name=(\"G.SAI KRISHNA\")\n",
        "print(name)\n",
        "print(type(name))"
      ],
      "metadata": {
        "colab": {
          "base_uri": "https://localhost:8080/"
        },
        "id": "xqa9MhDOqkKm",
        "outputId": "843fd5ee-2abb-4be1-d0dd-ffe8151a0abe"
      },
      "execution_count": null,
      "outputs": [
        {
          "output_type": "stream",
          "name": "stdout",
          "text": [
            "G.SAI KRISHNA\n",
            "<class 'str'>\n"
          ]
        }
      ]
    },
    {
      "cell_type": "code",
      "source": [
        "#question2\n",
        "#write a code to find the lenght of the string \"hello world\".\n",
        "text=(\"hello world\")\n",
        "print(len(text))\n"
      ],
      "metadata": {
        "colab": {
          "base_uri": "https://localhost:8080/"
        },
        "id": "ac2ziXwRqfod",
        "outputId": "76611da6-f106-4546-f030-fbe2302f1d08"
      },
      "execution_count": null,
      "outputs": [
        {
          "output_type": "stream",
          "name": "stdout",
          "text": [
            "11\n"
          ]
        }
      ]
    },
    {
      "cell_type": "code",
      "source": [
        "#question3\n",
        "#write a code to slice typhe first 3 characters from the string \"python programming\".\n",
        "name=(\"python programming\")\n",
        "print(name[0:3])"
      ],
      "metadata": {
        "colab": {
          "base_uri": "https://localhost:8080/"
        },
        "id": "IeS8jAWjrFW-",
        "outputId": "91797b89-08f2-47c1-c028-58bd5dcb5402"
      },
      "execution_count": null,
      "outputs": [
        {
          "output_type": "stream",
          "name": "stdout",
          "text": [
            "pyt\n"
          ]
        }
      ]
    },
    {
      "cell_type": "code",
      "source": [
        "#question4\n",
        "#write code to convert the string \"hello\" to uppercase.\n",
        "str=\"hello\"\n",
        "uppercase_str=str.upper()\n",
        "print(uppercase_str)"
      ],
      "metadata": {
        "colab": {
          "base_uri": "https://localhost:8080/"
        },
        "id": "noMTySEsrOb6",
        "outputId": "0ee07a62-cafb-4693-efaf-b8ae06847c2c"
      },
      "execution_count": null,
      "outputs": [
        {
          "output_type": "stream",
          "name": "stdout",
          "text": [
            "HELLO\n"
          ]
        }
      ]
    },
    {
      "cell_type": "code",
      "source": [
        "#question5\n",
        "#write a code to replace the word \"apple with \"orange in the string i like apple.\n",
        "fruit=(\"i like apple\")\n",
        "new_fruit=fruit.replace(\"apple\",\"orange\")\n",
        "print(new_fruit)"
      ],
      "metadata": {
        "colab": {
          "base_uri": "https://localhost:8080/"
        },
        "id": "sfDi4A8NrVPC",
        "outputId": "fac1a6eb-f047-436b-e5ef-505f50c78904"
      },
      "execution_count": null,
      "outputs": [
        {
          "output_type": "stream",
          "name": "stdout",
          "text": [
            "i like orange\n"
          ]
        }
      ]
    },
    {
      "cell_type": "code",
      "source": [
        "#question6\n",
        "##write a code to create a list with numbers 1 to 5 and print it.\n",
        "num_list=[1,2,3,4,5]\n",
        "print(num_list)\n",
        "print(type(num_list))"
      ],
      "metadata": {
        "colab": {
          "base_uri": "https://localhost:8080/"
        },
        "id": "NMOVIAVGrgDI",
        "outputId": "0811b46d-3334-424e-ec96-c9db88665d69"
      },
      "execution_count": null,
      "outputs": [
        {
          "output_type": "stream",
          "name": "stdout",
          "text": [
            "[1, 2, 3, 4, 5]\n",
            "<class 'list'>\n"
          ]
        }
      ]
    },
    {
      "cell_type": "code",
      "source": [
        "#question7\n",
        "#write a code to append the number to the list[1,2,3,4].\n",
        "list=[1,2,3,4]\n",
        "list.append(10)\n",
        "print(list)"
      ],
      "metadata": {
        "colab": {
          "base_uri": "https://localhost:8080/"
        },
        "id": "BHPADq0vrs2V",
        "outputId": "6ae6f7f1-caac-49eb-bd57-e888e2fa3112"
      },
      "execution_count": null,
      "outputs": [
        {
          "output_type": "stream",
          "name": "stdout",
          "text": [
            "[1, 2, 3, 4, 10]\n"
          ]
        }
      ]
    },
    {
      "cell_type": "code",
      "source": [
        "#question8\n",
        "#write a code to remove the number 3 from the list[1,2,3,4,5].\n",
        "list=[1,2,3,4,5]\n",
        "list.remove(3)\n",
        "print(list)"
      ],
      "metadata": {
        "colab": {
          "base_uri": "https://localhost:8080/"
        },
        "id": "njVvqbjUr4eZ",
        "outputId": "192cab2c-1470-498e-c417-b566f0c4238a"
      },
      "execution_count": null,
      "outputs": [
        {
          "output_type": "stream",
          "name": "stdout",
          "text": [
            "[1, 2, 4, 5]\n"
          ]
        }
      ]
    },
    {
      "cell_type": "code",
      "source": [
        "#question9\n",
        "#write a code to access the second element in the list[\"a\",\"b\",\"c\",\"d\"]\n",
        "list=[\"a\",\"b\",\"c\",\"d\"]\n",
        "print(list[1])"
      ],
      "metadata": {
        "colab": {
          "base_uri": "https://localhost:8080/"
        },
        "id": "AhyZd8lLsEeY",
        "outputId": "fc172480-3fda-4d80-ba1a-31a09d4a321c"
      },
      "execution_count": null,
      "outputs": [
        {
          "output_type": "stream",
          "name": "stdout",
          "text": [
            "b\n"
          ]
        }
      ]
    },
    {
      "cell_type": "code",
      "source": [
        "#question10\n",
        "#write a code to reverse the list[10,20,30,40].\n",
        "list=[10,20,30,40,50]\n",
        "list.reverse()\n",
        "print(list)"
      ],
      "metadata": {
        "colab": {
          "base_uri": "https://localhost:8080/"
        },
        "id": "sKeUFHC1sMYh",
        "outputId": "6ddfcb43-54c3-4044-b321-8493e4ed25d9"
      },
      "execution_count": null,
      "outputs": [
        {
          "output_type": "stream",
          "name": "stdout",
          "text": [
            "[50, 40, 30, 20, 10]\n"
          ]
        }
      ]
    },
    {
      "cell_type": "code",
      "source": [
        "#question11\n",
        "#write  acode to create a tuple with the elements 100,200,300 and print it.\n",
        "tuple=(100,200,300)\n",
        "print(tuple)\n",
        "print(type(tuple))"
      ],
      "metadata": {
        "colab": {
          "base_uri": "https://localhost:8080/"
        },
        "id": "VDjviebqsVU9",
        "outputId": "bc57743c-ce08-4df1-e1da-6bb7adddf6a2"
      },
      "execution_count": null,
      "outputs": [
        {
          "output_type": "stream",
          "name": "stdout",
          "text": [
            "(100, 200, 300)\n",
            "<class 'tuple'>\n"
          ]
        }
      ]
    },
    {
      "cell_type": "code",
      "source": [
        "#question12\n",
        "#write a code to access the second to last element of the tuple(\"red\",\"green\",\"blue\",\"yellow\").\n",
        "tuple=(\"red\",\"green\",\"blue\",\"yellow\")\n",
        "print(tuple[1:len(tuple)])"
      ],
      "metadata": {
        "colab": {
          "base_uri": "https://localhost:8080/"
        },
        "id": "vy9AREmNsc-w",
        "outputId": "e6845996-88b8-46f1-bc6e-0ed8cbdb91bb"
      },
      "execution_count": null,
      "outputs": [
        {
          "output_type": "stream",
          "name": "stdout",
          "text": [
            "('green', 'blue', 'yellow')\n"
          ]
        }
      ]
    },
    {
      "cell_type": "code",
      "source": [
        "#question13\n",
        "#write  a code to find the minimun number in the tuple(10,20,5,15).\n",
        "num=(10,20,5,15)\n",
        "minimun=min(num)\n",
        "print(minimun)"
      ],
      "metadata": {
        "colab": {
          "base_uri": "https://localhost:8080/"
        },
        "id": "8g1JRJWKsnN6",
        "outputId": "c96e8bd4-d02a-487b-884c-d7207ec87096"
      },
      "execution_count": null,
      "outputs": [
        {
          "output_type": "stream",
          "name": "stdout",
          "text": [
            "5\n"
          ]
        }
      ]
    },
    {
      "cell_type": "code",
      "source": [
        "#question14\n",
        "#write a code to find the index of the element \"cat\" in the tuple(\"dog\",\"cat\",\"rabbit\").\n",
        "animals=(\"dog\",\"cat\",\"rabbit\")\n",
        "index=animals.index(\"cat\")\n",
        "print(index)"
      ],
      "metadata": {
        "colab": {
          "base_uri": "https://localhost:8080/"
        },
        "id": "UlHrNLQnsuSB",
        "outputId": "c309a9b7-c66b-4c55-9241-6ae8554684f7"
      },
      "execution_count": null,
      "outputs": [
        {
          "output_type": "stream",
          "name": "stdout",
          "text": [
            "1\n"
          ]
        }
      ]
    },
    {
      "cell_type": "code",
      "source": [
        "#question15\n",
        "#write a code to create a tuple containing three different fruits and check if \"kiwi\" is in it.\n",
        "fruits=(\"apple\",\"orange\",\"blueberry\",\"kiwi\")\n",
        "if \"kiwi\" in fruits:\n",
        "    print(\"my fruit has kiwi in it:\",True)\n",
        "else:\n",
        "    print(\"kiwi doesnt exists in my fruit:\",False)"
      ],
      "metadata": {
        "colab": {
          "base_uri": "https://localhost:8080/"
        },
        "id": "cpXNE98-s3rt",
        "outputId": "ade56524-8535-46a6-959f-a7fbdf8c764d"
      },
      "execution_count": null,
      "outputs": [
        {
          "output_type": "stream",
          "name": "stdout",
          "text": [
            "my fruit has kiwi in it: True\n"
          ]
        }
      ]
    },
    {
      "cell_type": "code",
      "source": [
        "#question16\n",
        "#write a code to create a set with the numbers 1 to 5 and print it.\n",
        "my_set={1,2,3,4,5}\n",
        "print(my_set)\n",
        "print(type(my_set))"
      ],
      "metadata": {
        "colab": {
          "base_uri": "https://localhost:8080/"
        },
        "id": "R4-mamqhzFX5",
        "outputId": "483236bc-7432-4e08-f31a-1fff1ff94b65"
      },
      "execution_count": null,
      "outputs": [
        {
          "output_type": "stream",
          "name": "stdout",
          "text": [
            "{1, 2, 3, 4, 5}\n",
            "<class 'set'>\n"
          ]
        }
      ]
    },
    {
      "cell_type": "code",
      "source": [
        "#question17\n",
        "#write a code to clear all elements from the set{1,2,3,4}.\n",
        "set={1,2,3,4}\n",
        "set.clear()\n",
        "print(set)"
      ],
      "metadata": {
        "colab": {
          "base_uri": "https://localhost:8080/"
        },
        "id": "sg7I_5o6tJI6",
        "outputId": "0ae84900-6464-48af-b5af-89b386e77f01"
      },
      "execution_count": null,
      "outputs": [
        {
          "output_type": "stream",
          "name": "stdout",
          "text": [
            "set()\n"
          ]
        }
      ]
    },
    {
      "cell_type": "code",
      "source": [
        "#question18\n",
        "#write a code to remove the element 4 from the set{1,2,3,4}.\n",
        "my_set={1,2,3,4}\n",
        "my_set.remove(4)\n",
        "print(my_set)"
      ],
      "metadata": {
        "colab": {
          "base_uri": "https://localhost:8080/"
        },
        "id": "f5PcuHRH2Bbt",
        "outputId": "0e11cb73-4164-4894-8dc1-7f072ca7fd84"
      },
      "execution_count": null,
      "outputs": [
        {
          "output_type": "stream",
          "name": "stdout",
          "text": [
            "{1, 2, 3}\n"
          ]
        }
      ]
    },
    {
      "cell_type": "code",
      "source": [
        "#question19\n",
        "#write  a code to find the union of two sets {1,2,3} and {3,4,5}\n",
        "num={1,2,3}\n",
        "num2={3,4,5}\n",
        "print(num|num2)"
      ],
      "metadata": {
        "colab": {
          "base_uri": "https://localhost:8080/"
        },
        "id": "Ym09eQi7tPzP",
        "outputId": "82afc05d-baf2-49b9-f1ac-247d472f5b17"
      },
      "execution_count": null,
      "outputs": [
        {
          "output_type": "stream",
          "name": "stdout",
          "text": [
            "{1, 2, 3, 4, 5}\n"
          ]
        }
      ]
    },
    {
      "cell_type": "code",
      "source": [
        "#question20\n",
        "#write  a code to find the intersection of two sets {1,2,3} and {2,3,4}.\n",
        "num={1,2,3}\n",
        "num2={2,3,4}\n",
        "print(num&num2)\n"
      ],
      "metadata": {
        "colab": {
          "base_uri": "https://localhost:8080/"
        },
        "id": "tn-7OkSxtm3c",
        "outputId": "8dc5f4fe-60a1-4fa1-a769-3a81b0a68b92"
      },
      "execution_count": null,
      "outputs": [
        {
          "output_type": "stream",
          "name": "stdout",
          "text": [
            "{2, 3}\n"
          ]
        }
      ]
    },
    {
      "cell_type": "code",
      "source": [
        "#question21\n",
        "#write  a code to create a dictionary with the keys \"name\",\"age\"and \"city\" and print it.\n",
        "dict={\n",
        "    \"name\":\"ryan\",\n",
        "    \"age\":20,\n",
        "    \"city\":\"jamshedpur\",\n",
        "}\n",
        "print(dict)"
      ],
      "metadata": {
        "colab": {
          "base_uri": "https://localhost:8080/"
        },
        "id": "d0Eu3bgItwmI",
        "outputId": "e93cd112-5173-4eca-f3bb-a42d72ba7b8d"
      },
      "execution_count": null,
      "outputs": [
        {
          "output_type": "stream",
          "name": "stdout",
          "text": [
            "{'name': 'ryan', 'age': 20, 'city': 'jamshedpur'}\n"
          ]
        }
      ]
    },
    {
      "cell_type": "code",
      "source": [
        "#question22\n",
        "#write a code to add a new key-value pair \"country\":\"usa\" to the dictionary{name john and age 25}.\n",
        "dict={\n",
        "    \"name\":\"john\",\n",
        "    \"age\":25,\n",
        "}\n",
        "dict.update({\"country\":\"usa\"})\n",
        "print(dict)"
      ],
      "metadata": {
        "colab": {
          "base_uri": "https://localhost:8080/"
        },
        "id": "sfC-pEWPt6KN",
        "outputId": "f53ff027-8efa-430a-842b-3545f2bc4f74"
      },
      "execution_count": null,
      "outputs": [
        {
          "output_type": "stream",
          "name": "stdout",
          "text": [
            "{'name': 'john', 'age': 25, 'country': 'usa'}\n"
          ]
        }
      ]
    },
    {
      "cell_type": "code",
      "source": [
        "#question23\n",
        "#write a code to access the value associated with the keys\"name \" in the dictionary {name alice and age 30}.\n",
        "dict={\n",
        "    \"name\":\"alice\",\n",
        "    \"age\":30,\n",
        "}\n",
        "print(dict[\"name\"])\n"
      ],
      "metadata": {
        "colab": {
          "base_uri": "https://localhost:8080/"
        },
        "id": "s_FnHbqbuC89",
        "outputId": "f0595168-eb32-4c2f-d1b2-e941eddcde46"
      },
      "execution_count": null,
      "outputs": [
        {
          "output_type": "stream",
          "name": "stdout",
          "text": [
            "alice\n"
          ]
        }
      ]
    },
    {
      "cell_type": "code",
      "source": [
        "#question24\n",
        "#write a  code to remove the key \"age\" from the dictionary {name bob age 22 city new york}.\n",
        "dict={\n",
        "    \"name\":\"bob\",\n",
        "    \"age\":22,\n",
        "    \"city\":\"new york\"\n",
        "}\n",
        "dict.pop(\"age\")\n",
        "print(dict)"
      ],
      "metadata": {
        "colab": {
          "base_uri": "https://localhost:8080/"
        },
        "id": "GBlYyMwpuLem",
        "outputId": "acd549ae-e417-4868-e75e-9837e47cf2f9"
      },
      "execution_count": null,
      "outputs": [
        {
          "output_type": "stream",
          "name": "stdout",
          "text": [
            "{'name': 'bob', 'city': 'new york'}\n"
          ]
        }
      ]
    },
    {
      "cell_type": "code",
      "source": [
        "#question25\n",
        "#write a code to check if the key city exists in the dictionary {name alice city paris}.\n",
        "dict={\n",
        "    \"name\":\"alice\",\n",
        "    \"city\":\"paris\",\n",
        "}\n",
        "if \"city\" in dict:\n",
        "    print(\"city exists\")\n",
        "else:\n",
        "    print(\"city doesnt exists\")\n"
      ],
      "metadata": {
        "colab": {
          "base_uri": "https://localhost:8080/"
        },
        "id": "-_5jz6K_uUfV",
        "outputId": "4feb9a5e-e77f-43d9-d0e7-b0d82639c5ff"
      },
      "execution_count": null,
      "outputs": [
        {
          "output_type": "stream",
          "name": "stdout",
          "text": [
            "city exists\n"
          ]
        }
      ]
    },
    {
      "cell_type": "code",
      "source": [
        "#question26\n",
        "#write a code to create a list a tuple and a dictionary and print the all.\n",
        "list=[1,2,3,4]\n",
        "tuple=(24,12,20,22)\n",
        "dict={\n",
        "    \"name\":\"ryan\",\n",
        "    \"age\":20,\n",
        "    \"hobby\":\"playing Tennis\",\n",
        "}\n",
        "print(list)\n",
        "print(tuple)\n",
        "print(dict)"
      ],
      "metadata": {
        "colab": {
          "base_uri": "https://localhost:8080/"
        },
        "id": "5K7w-i7EucCK",
        "outputId": "71e8c109-f89c-4607-c573-4199d5ab7c4a"
      },
      "execution_count": null,
      "outputs": [
        {
          "output_type": "stream",
          "name": "stdout",
          "text": [
            "[1, 2, 3, 4]\n",
            "(24, 12, 20, 22)\n",
            "{'name': 'ryan', 'age': 20, 'hobby': 'playing Tennis'}\n"
          ]
        }
      ]
    },
    {
      "cell_type": "code",
      "source": [
        "#question27\n",
        "#write a code to create a list of 5 random numbers between 1 and 100,sort in ascending order and print the result (replaced).\n",
        "list=[12,24,4,20]\n",
        "list.sort()\n",
        "print(list)"
      ],
      "metadata": {
        "colab": {
          "base_uri": "https://localhost:8080/"
        },
        "id": "GNMw7DOqukui",
        "outputId": "09113304-c102-4b4f-f9fd-d5c4fbcdd885"
      },
      "execution_count": null,
      "outputs": [
        {
          "output_type": "stream",
          "name": "stdout",
          "text": [
            "[4, 12, 20, 24]\n"
          ]
        }
      ]
    },
    {
      "cell_type": "code",
      "source": [
        "#question28\n",
        "#write a code to create a list with strings and print the element at the third index.\n",
        "list=[\"apple\",\"graps\",\"blueberry\",\"orange\"]\n",
        "print(list[3])\n"
      ],
      "metadata": {
        "colab": {
          "base_uri": "https://localhost:8080/"
        },
        "id": "ExH3soyxuv7j",
        "outputId": "200120ce-035e-49df-e2b8-79247da2fdfd"
      },
      "execution_count": null,
      "outputs": [
        {
          "output_type": "stream",
          "name": "stdout",
          "text": [
            "orange\n"
          ]
        }
      ]
    },
    {
      "cell_type": "code",
      "source": [
        "#question29\n",
        "#write a code to combine two dictionaries into one and print the result.\n",
        "dict={\n",
        "    \"name\":\"ryan\",\n",
        "    \"age\":20,\n",
        "}\n",
        "dict2={\n",
        "    \"name\":\"novak\",\n",
        "    \"age\":48,\n",
        "}\n",
        "combined_dict={**dict ,**dict2}\n",
        "print(combined_dict)\n"
      ],
      "metadata": {
        "colab": {
          "base_uri": "https://localhost:8080/"
        },
        "id": "bAUryFq4u2Up",
        "outputId": "6825423e-2eb3-41e1-f878-51f381ac0705"
      },
      "execution_count": null,
      "outputs": [
        {
          "output_type": "stream",
          "name": "stdout",
          "text": [
            "{'name': 'novak', 'age': 48}\n"
          ]
        }
      ]
    },
    {
      "cell_type": "code",
      "source": [
        "#question30\n",
        "#write a code to convert a list of strings into a set.\n",
        "string_list=[\"krishna\",\"preetishah\",\"aabha\"]\n",
        "unique_list=[]\n",
        "for iteam in string_list:\n",
        "    if iteam not in unique_list:\n",
        "      unique_list.append(iteam)\n",
        "print(\"{\"+\",\".join(unique_list)+\"}\")\n"
      ],
      "metadata": {
        "colab": {
          "base_uri": "https://localhost:8080/"
        },
        "id": "OoBBO7oP0aMR",
        "outputId": "91f199c5-8ce9-4098-ce99-50ffa4110ceb"
      },
      "execution_count": null,
      "outputs": [
        {
          "output_type": "stream",
          "name": "stdout",
          "text": [
            "{krishna,preetishah,aabha}\n"
          ]
        }
      ]
    },
    {
      "cell_type": "markdown",
      "source": [],
      "metadata": {
        "id": "sGCcbQ9eX0CN"
      }
    },
    {
      "cell_type": "markdown",
      "source": [
        "Theory questions assignment 2\n",
        "\n",
        "1. what are data structures, and why are they important?\n",
        "ANS=A data structure is a specialized way of organizing, managing, and storing data in a computer so it can be used efficiently. They define the relationship between the data and the operations that can be performed on it.\n",
        "\n",
        "Data structures are crucial in computer science and programming for several reasons:\n",
        "A. Faster Performance=They make it easier and quicker to work with data.\n",
        "B.Better Organization=They help keep data neat and easy to use.\n",
        "C.Solving Real Problems=They are used in real-world applications like apps, games, and websites.\n",
        "D.Efficient Memory Use=They help save computer memory.\n",
        "E.Foundation for Algorithms=Most algorithms use data structures to work properly.\n",
        "\n",
        "2. Explain the difference between mutable and immutable data types with examples.\n",
        "ANS= mutable can be changed after creation.\n",
        "example= list,dict,set.\n",
        "my_list=[1,2,3]\n",
        "my.list[0]=10\n",
        "This is allowed.\n",
        "\n",
        "immutable cannot be changed after creation.\n",
        "example= string , tuple.\n",
        "my_str=\"hello\"\n",
        "my_str[0]= \"H\"\n",
        "This will give an error.\n",
        "\n",
        "3. What are the main differences between lists and tuples in Python\n",
        "ANS= The main difference between lists and tuples in pyhton are-:\n",
        "A.list is mutable data type whereas tuple is an immutable data type.\n",
        "B.for list we use \"[]\" square brackets whereas for tuple we use \"()\" parentheses.\n",
        "C.list is slower as compare to tuple.\n",
        "D.Data in list can be changed where as data in tuple are unchangable.\n",
        "\n",
        "4. Describe how dictionaries store data\n",
        "ANS= Dictionaries store data in key-value pairs. Each key is unique, and it points to a specific value.\n",
        "student = {\"name\": \"Alice\", \"age\": 20}\n",
        "# \"name\" and \"age\" are keys, \"Alice\" and 20 are values\n",
        "\n",
        "5. Why might you use a set instead of a list in Python\n",
        "ANS= A.Sets automatically remove duplicate values.\n",
        "B.They are faster than lists for checking if a value exists.\n",
        "\n",
        "my_set = {1, 2, 3, 3}\n",
        "print(my_set)  # Output: {1, 2, 3}\n",
        "\n",
        "6. What is a string in Python, and how is it different from a list\n",
        "ANS= A string is a sequence of characters, like \"hello\".\n",
        "\n",
        "A list is a sequence of items, which can be of any data type.\n",
        "\n",
        "Key Differences:\n",
        "\n",
        "Strings are immutable, lists are mutable.\n",
        "\n",
        "Strings can only hold characters; lists can hold any data type.\n",
        "\n",
        "7. How do tuples ensure data integrity in Python.\n",
        "ANS=Since tuples are immutable, the data inside cannot be accidentally changed. This makes them ideal for storing fixed data like dates, coordinates, or configurations.\n",
        "coordinates = (10, 20)  # Cannot be changed accidentally.\n",
        "\n",
        "8. What is a hash table, and how does it relate to dictionaries in Python.\n",
        "ANS= A hash table is a data structure that stores key-value pairs. It uses a hash function to quickly find where to store or locate a key.\n",
        "\n",
        "Python dictionaries are built using hash tables. This allows them to access values very fast using keys.\n",
        "\n",
        "9. Can lists contain different data types in Python.\n",
        "ANS=Yes, lists in Python can hold different data types.\n",
        "my_list = [1, \"hello\", 3.14, True]\n",
        "\n",
        "10. Explain why strings are immutable in Python.\n",
        "ANS=Strings are immutable to:\n",
        "\n",
        "Improve performance (especially in loops)\n",
        "\n",
        "Make them hashable (so they can be used as dictionary keys)\n",
        "\n",
        "Prevent accidental changes\n",
        "\n",
        "If you need to modify a string, you create a new one.\n",
        "\n",
        "11. What advantages do dictionaries offer over lists for certain tasks.\n",
        "ANS=Faster lookups using keys\n",
        "\n",
        "Clear structure with named keys instead of index numbers\n",
        "\n",
        "No need to remember index positions\n",
        "# Better readability\n",
        "student = {\"name\": \"Emma\", \"grade\": 90}\n",
        "\n",
        "12. Describe a scenario where using a tuple would be preferable over a list.\n",
        "ANS=Use a tuple when:\n",
        "\n",
        "You don’t want the data to change (e.g., coordinates)\n",
        "\n",
        "You want to use it as a key in a dictionary (tuples are hashable)\n",
        "\n",
        "Example:\n",
        "coordinates = (40.7128, -74.0060)  # City location\n",
        "\n",
        "13. How do sets handle duplicate values in Python.\n",
        "ANS=Sets automatically remove duplicates. If you add the same value more than once, it only keeps one copy.\n",
        "\n",
        "my_set = {1, 2, 2, 3}\n",
        "print(my_set)  # Output: {1, 2, 3}\n",
        "\n",
        "14. How does the “in” keyword work differently for lists and dictionaries.\n",
        "ANS=In a list, in checks if a value is present as an element.\n",
        "my_list = [1, 2, 3]\n",
        "print(2 in my_list)  # True\n",
        "\n",
        "In a dictionary, in checks if a value is a key (not a value).\n",
        "my_dict = {\"name\": \"Alice\", \"age\": 25}\n",
        "print(\"name\" in my_dict)  # True\n",
        "print(\"Alice\" in my_dict)  # False\n",
        "\n",
        "15. Can you modify the elements of a tuple? Explain why or why not.\n",
        "ANS=No, you cannot modify elements of a tuple because tuples are immutable. Once created, their content cannot be changed.\n",
        "my_tuple = (1, 2, 3)\n",
        "my_tuple[0] = 10  # This will raise an error\n",
        "This immutability ensures data integrity.\n",
        "\n",
        "16. What is a nested dictionary, and give an example of its use case.\n",
        "ANS=A nested dictionary is a dictionary that contains another dictionary as a value.\n",
        "Example:\n",
        "student = {\n",
        "  \"name\": \"Emma\",\n",
        "  \"grades\": {\"math\": 90, \"science\": 85}\n",
        "}\n",
        "Use Case:\n",
        "Useful for storing structured data like a database:\n",
        "\n",
        "Students with multiple subjects\n",
        "\n",
        "Employees with details like address, contact, etc.\n",
        "\n",
        "\n",
        "\n",
        "17. Describe the time complexity of accessing elements in a dictionary.\n",
        "ANS=Accessing elements in a dictionary is usually O(1) (constant time) because it uses a hash table internally.\n",
        "my_dict = {\"a\": 1, \"b\": 2}\n",
        "print(my_dict[\"b\"])  # Fast lookup\n",
        "\n",
        "\n",
        "18.  In what situations are lists preferred over dictionaries.\n",
        "ANS=Use lists when:\n",
        "\n",
        "Order of elements matters\n",
        "\n",
        "You just need a collection of values without keys\n",
        "\n",
        "You need to loop through items in order\n",
        "\n",
        "Example:\n",
        "colors = [\"red\", \"blue\", \"green\"]\n",
        "Use it for:\n",
        "\n",
        "Storing items like names, numbers, or tasks\n",
        "\n",
        "Simple sequences without needing labels\n",
        "\n",
        "\n",
        "19. Why are dictionaries considered unordered, and how does that affect data retrieval.\n",
        "ANS=In older versions of Python (before Python 3.7), dictionaries were considered unordered because they did not maintain the order in which items were added. The key-value pairs were stored based on how they were hashed, not by their insertion order.\n",
        "\n",
        "Example (pre-3.7 behavior):\n",
        "my_dict = {\"a\": 1, \"b\": 2, \"c\": 3}\n",
        "# The order of items when printed could be different each time\n",
        "\n",
        "Modern Python (3.7 and above)\n",
        "Starting with Python 3.7, dictionaries do preserve the insertion order of keys. However, they are still logically unordered in the sense that:\n",
        "\n",
        "You should not rely on their order for logic.\n",
        "\n",
        "You cannot access items by index like a list.\n",
        "\n",
        "How Does That Affect Data Retrieval?\n",
        "You retrieve values by key, not by position or order.\n",
        "\n",
        "This makes lookup very fast (usually O(1), constant time).\n",
        "\n",
        "But you can't say “give me the second item” like you can with a list.\n",
        "\n",
        "Example:\n",
        "my_dict = {\"name\": \"Emma\", \"age\": 20}\n",
        "print(my_dict[\"age\"])  # Access by key, not position\n",
        "\n",
        "\n",
        "\n",
        "\n",
        "20. Explain the difference between a list and a dictionary in terms of data retrieval.\n",
        "ANS=A list and a dictionary are both used to store collections of data in Python, but they retrieve data in different ways:\n",
        "\n",
        "List:\n",
        "Retrieval by Index (Position)\n",
        "\n",
        "Each item is stored in a specific order, and you access it using a number called an index.\n",
        "\n",
        "Indexes start from 0.\n",
        "Example:\n",
        "my_list = [\"apple\", \"banana\", \"cherry\"]\n",
        "print(my_list[1])  # Output: \"banana\"\n",
        "Use Case: When the order matters and you don't need labels for each item.\n",
        "\n",
        "Dictionary:\n",
        "Retrieval by Key\n",
        "\n",
        "Data is stored in key-value pairs, and you access values by their key, not by position.\n",
        "\n",
        "Keys are unique and act like labels for the data.\n",
        "Example:\n",
        "my_dict = {\"fruit1\": \"apple\", \"fruit2\": \"banana\"}\n",
        "print(my_dict[\"fruit2\"])  # Output: \"banana\"\n",
        "Use Case: When you want to label your data and retrieve items quickly using those labels.\n",
        "\n",
        "\n"
      ],
      "metadata": {
        "id": "bpb2vlYV4BWP"
      }
    }
  ],
  "metadata": {
    "colab": {
      "provenance": []
    },
    "kernelspec": {
      "display_name": "Python 3",
      "name": "python3"
    }
  },
  "nbformat": 4,
  "nbformat_minor": 0
}